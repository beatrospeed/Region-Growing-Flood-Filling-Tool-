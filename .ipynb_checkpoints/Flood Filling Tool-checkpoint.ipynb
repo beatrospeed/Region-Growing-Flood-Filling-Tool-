{
 "cells": [
  {
   "cell_type": "code",
   "execution_count": 16,
   "metadata": {},
   "outputs": [],
   "source": [
    "import cv2\n",
    "from matplotlib import pyplot as plt\n",
    "import numpy as np \n",
    "import random\n",
    "import math\n",
    "imgs = [\"baboon.png\",\"color.jpg\"]"
   ]
  },
  {
   "cell_type": "markdown",
   "metadata": {},
   "source": [
    "8 neighbor algorithm was used for better precision in defining edges\n"
   ]
  },
  {
   "cell_type": "code",
   "execution_count": 17,
   "metadata": {},
   "outputs": [],
   "source": [
    "def get8n(x, y, shape):\n",
    "    neighbours = []\n",
    "    maxx = shape[1]-1\n",
    "    maxy = shape[0]-1\n",
    "    \n",
    "    #top left corner\n",
    "    neighbours.append((min(max(x-1,0),maxx),min(max(y-1,0),maxy)))\n",
    "    #top center\n",
    "    neighbours.append((x,min(max(y-1,0),maxy)))\n",
    "    #top right corner\n",
    "    neighbours.append((min(max(x+1,0),maxx),min(max(y-1,0),maxy)))\n",
    "    #left\n",
    "    neighbours.append((min(max(x-1,0),maxx),y))\n",
    "    #right\n",
    "    neighbours.append((min(max(x+1,0),maxx),y))\n",
    "    #bottom left corner\n",
    "    neighbours.append((min(max(x-1,0),maxx),min(max(y+1,0),maxy)))\n",
    "    #bottom center\n",
    "    neighbours.append((x,min(max(y+1,0),maxy)))\n",
    "    #bottom right corner\n",
    "    neighbours.append((min(max(x+1,0),maxx),min(max(y+1,0),maxy)))\n",
    "    return neighbours"
   ]
  },
  {
   "cell_type": "markdown",
   "metadata": {},
   "source": [
    "The homogeneity criterion that was used is the Absolute Value of the difference of the three color channels of both pixels being compared less than the threshold. Therefore, if the absolute value delta of the two pixels was less than the threshold, the pixel would be included in the flood filling."
   ]
  },
  {
   "cell_type": "markdown",
   "metadata": {},
   "source": [
    "In addition, A randomly generated color is used to fill each region so the different segments can be distinguished more easily."
   ]
  },
  {
   "cell_type": "code",
   "execution_count": 18,
   "metadata": {},
   "outputs": [],
   "source": [
    "def region_growing(img,thresh):\n",
    "    #generate random color to fill region\n",
    "    r_f = random.randint(0,200)\n",
    "    g_f = random.randint(0,200)\n",
    "    b_f = random.randint(0,200)\n",
    "    print(seed)\n",
    "    #get the color value for homogeneity criteria\n",
    "    b,g,r = img[seed[0]]\n",
    "    #add the seed point to the visisted list\n",
    "    visited.append(seed[0])\n",
    "    #Keep looping while neighbors exist\n",
    "    while len(seed) > 0: \n",
    "        #current point is at the beginning of stack\n",
    "        curr_point = seed[0]\n",
    "        #get all 8 neighbors of the point\n",
    "        for point in get8n(curr_point[0], curr_point[1], img.shape):\n",
    "            #get the channel values for the pixel in the image\n",
    "            b_curr,g_curr,r_curr = img[point[0],point[1]]\n",
    "            #if the color values of pixel are within the homogeinity critera, change the color of the pixel in the image to the chosen color\n",
    "            if abs(int(b) - int(b_curr)) <= thresh and abs(int(g) - int(g_curr)) <= thresh and abs(int(r) - int(r_curr)) <= thresh: \n",
    "                img[point[0],point[1]] = [b_f,g_f,r_f]\n",
    "            #if the point has not been visited then append it to the seeds list\n",
    "                if not point in visited:\n",
    "                    seed.append(point)\n",
    "            #add the point to the visited list\n",
    "                visited.append(point)\n",
    "            \n",
    "        seed.pop(0)\n",
    "    cv2.imshow('Flood Fill', img)"
   ]
  },
  {
   "cell_type": "code",
   "execution_count": 20,
   "metadata": {},
   "outputs": [
    {
     "name": "stdout",
     "output_type": "stream",
     "text": [
      "positon = [227,249]\n",
      "BGR = 9,76,247\n",
      "[(249, 227)]\n",
      "positon = [325,59]\n",
      "BGR = 14,135,202\n",
      "[(59, 325)]\n",
      "positon = [187,62]\n",
      "BGR = 29,92,171\n",
      "[(62, 187)]\n",
      "positon = [183,171]\n",
      "BGR = 226,194,138\n",
      "[(171, 183)]\n",
      "positon = [148,147]\n",
      "BGR = 22,11,13\n",
      "[(147, 148)]\n",
      "positon = [242,45]\n",
      "BGR = 0,203,0\n",
      "[(45, 242)]\n",
      "positon = [220,215]\n",
      "BGR = 0,255,255\n",
      "[(215, 220)]\n"
     ]
    }
   ],
   "source": [
    "for img in imgs:\n",
    "    def onMouse(event,x,y,flags, param): \n",
    "        if event == cv2.EVENT_LBUTTONDOWN:\n",
    "            print(\"positon = [\" + str(x)+ \",\" + str(y) + \"]\")\n",
    "            print(\"BGR = \" + str(img[y,x,0]) + \",\" + str(img[y,x,1]) + \",\"+ str(img[y,x,2]))\n",
    "            seed.append((y,x))\n",
    "            thresh = cv2.getTrackbarPos('delta', 'Flood Fill')\n",
    "            region_growing(img,thresh)\n",
    "\n",
    "\n",
    "    def changeThresh(val): \n",
    "        thresh = val\n",
    "        \n",
    "    visited = []\n",
    "    seed = []\n",
    "    temp = cv2.imread(img)\n",
    "    img = temp.copy()\n",
    "    cv2.namedWindow('Flood Fill')\n",
    "    cv2.setMouseCallback('Flood Fill', onMouse)\n",
    "    cv2.createTrackbar('delta', 'Flood Fill',0,255,changeThresh)\n",
    "    cv2.imshow('Flood Fill', img)\n",
    "    key = cv2.waitKey(10)\n",
    "\n",
    "    while(key != ord('x')): \n",
    "        key = cv2.waitKey(0)\n",
    "        if key == ord('s'):\n",
    "            if counter == 0:\n",
    "                cv2.imwrite(\"baboon_modified.png\", img)\n",
    "            else: \n",
    "                cv2.imwrite(\"color_modified.jpg\", img)\n",
    "        elif key == ord('r'):\n",
    "            visited = []\n",
    "            seed = []\n",
    "            img = temp.copy()\n",
    "            cv2.imshow('Flood Fill',img)\n",
    "            key = cv2.waitKey(10)\n",
    "    counter = 1\n",
    "    cv2.destroyAllWindows()"
   ]
  },
  {
   "cell_type": "code",
   "execution_count": null,
   "metadata": {},
   "outputs": [],
   "source": []
  },
  {
   "cell_type": "code",
   "execution_count": null,
   "metadata": {},
   "outputs": [],
   "source": []
  }
 ],
 "metadata": {
  "kernelspec": {
   "display_name": "Python 3",
   "language": "python",
   "name": "python3"
  },
  "language_info": {
   "codemirror_mode": {
    "name": "ipython",
    "version": 3
   },
   "file_extension": ".py",
   "mimetype": "text/x-python",
   "name": "python",
   "nbconvert_exporter": "python",
   "pygments_lexer": "ipython3",
   "version": "3.8.3"
  }
 },
 "nbformat": 4,
 "nbformat_minor": 4
}
